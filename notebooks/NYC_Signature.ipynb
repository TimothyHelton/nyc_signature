{
 "cells": [
  {
   "cell_type": "markdown",
   "metadata": {},
   "source": [
    "# New York City Signature Locations\n",
    "---\n",
    "Timothy Helton\n",
    "\n",
    "---\n",
    "<br>\n",
    "<font color=\"red\">\n",
    "    NOTE:\n",
    "    <br>\n",
    "    This notebook uses code found in the\n",
    "    <a href=\"https://github.com/TimothyHelton/k2datascience/blob/master/nyc_signature\">\n",
    "    <strong>nyc_signature</strong></a> package.\n",
    "    To execute all the cells do one of the following items:\n",
    "    <ul>\n",
    "        <li>Install the nyc_signature package to the active Python interpreter.</li>\n",
    "        <li>Add nyc_signature/nyc_signature to the PYTHON_PATH system variable.</li>\n",
    "</font>"
   ]
  },
  {
   "cell_type": "markdown",
   "metadata": {},
   "source": [
    "---\n",
    "## Imports"
   ]
  },
  {
   "cell_type": "code",
   "execution_count": null,
   "metadata": {},
   "outputs": [],
   "source": [
    "import sys\n",
    "\n",
    "from nyc_signature import demographics\n",
    "from nyc_signature import subway\n",
    "\n",
    "from IPython.core.interactiveshell import InteractiveShell\n",
    "InteractiveShell.ast_node_interactivity = \"all\"\n",
    "%matplotlib inline"
   ]
  },
  {
   "cell_type": "markdown",
   "metadata": {},
   "source": [
    "---\n",
    "## Python Version"
   ]
  },
  {
   "cell_type": "code",
   "execution_count": null,
   "metadata": {},
   "outputs": [],
   "source": [
    "print(f'Python Version: {sys.version}')"
   ]
  },
  {
   "cell_type": "markdown",
   "metadata": {},
   "source": [
    "---\n",
    "## Votor Demographics"
   ]
  },
  {
   "cell_type": "markdown",
   "metadata": {},
   "source": [
    "### US Voters By Age and Gender\n",
    "#### Load Data"
   ]
  },
  {
   "cell_type": "code",
   "execution_count": null,
   "metadata": {},
   "outputs": [],
   "source": [
    "import numpy as np\n",
    "import pandas as pd\n",
    "\n",
    "data_types = {\n",
    "    'sex': str,\n",
    "    'age_years': str,\n",
    "    'us_population': np.int32,\n",
    "    'us_citizen_population': np.int32,\n",
    "    'registered_yes': np.int32,\n",
    "    'registered_yes_pct': np.float64,\n",
    "    'registered_no': np.int32,\n",
    "    'registered_no_pct': np.float64,\n",
    "    'registered_no_response': np.int32,\n",
    "    'registered_no_response_pct': np.float64,\n",
    "    'voted_yes': np.int32,\n",
    "    'voted_yes_pct': np.float64,\n",
    "    'voted_no': np.int32,\n",
    "    'voted_no_pct': np.float64,\n",
    "    'voted_no_response': np.int32,\n",
    "    'voted_no_response_pct': np.float64,\n",
    "    'total_registered_pct': np.float64,\n",
    "    'total_voted_pct': np.float64,\n",
    "}\n",
    "\n",
    "pd.read_excel(\n",
    "    'https://www2.census.gov/programs-surveys/cps/tables/p20/580/table01.xls',\n",
    "    dtype=data_types,\n",
    "    header=0,\n",
    "    names=data_types.keys(),\n",
    "    skip_footer=5,\n",
    "    skiprows=5,\n",
    ")"
   ]
  },
  {
   "cell_type": "code",
   "execution_count": null,
   "metadata": {},
   "outputs": [],
   "source": [
    "us_age = demographics.Age()\n",
    "us_age.load_data()\n",
    "us_age.data.info()\n",
    "us_age.data.head()"
   ]
  },
  {
   "cell_type": "code",
   "execution_count": null,
   "metadata": {},
   "outputs": [],
   "source": [
    "us_age.age_vote_plot()"
   ]
  },
  {
   "cell_type": "markdown",
   "metadata": {},
   "source": [
    "#### Finding\n",
    "1. Half the people approximately 40 years of age or older in the US voted during the last election.\n",
    "    1. Target age range of **40-65 years old** to have a high percentage the individual will be open to signing a petition.\n",
    "1. Gender does not play a significant role.\n",
    "    1. Preference due to gender is weak, but if multiple candidates are available **chose to persue the women**."
   ]
  },
  {
   "cell_type": "markdown",
   "metadata": {},
   "source": [
    "###  New York State Voters\n",
    "#### Load Data"
   ]
  },
  {
   "cell_type": "code",
   "execution_count": null,
   "metadata": {},
   "outputs": [],
   "source": [
    "ny = demographics.NewYork()\n",
    "ny.load_data()\n",
    "ny.data.info()\n",
    "ny.data.loc['new york', :]"
   ]
  },
  {
   "cell_type": "code",
   "execution_count": null,
   "metadata": {},
   "outputs": [],
   "source": [
    "ny.ethnicity_plot()"
   ]
  },
  {
   "cell_type": "markdown",
   "metadata": {},
   "source": [
    "---\n",
    "## Subway Stations"
   ]
  },
  {
   "cell_type": "markdown",
   "metadata": {},
   "source": [
    "### Loctions\n",
    "#### Load Data"
   ]
  },
  {
   "cell_type": "code",
   "execution_count": null,
   "metadata": {},
   "outputs": [],
   "source": [
    "stations = subway.Stations()\n",
    "stations.load_data()\n",
    "stations.data.info()\n",
    "stations.data.head()\n",
    "stations.trains.info()\n",
    "stations.trains.head()"
   ]
  },
  {
   "cell_type": "code",
   "execution_count": null,
   "metadata": {},
   "outputs": [],
   "source": [
    "stations.train_plot()"
   ]
  }
 ],
 "metadata": {
  "kernelspec": {
   "display_name": "Python 3",
   "language": "python",
   "name": "python3"
  },
  "language_info": {
   "codemirror_mode": {
    "name": "ipython",
    "version": 3
   },
   "file_extension": ".py",
   "mimetype": "text/x-python",
   "name": "python",
   "nbconvert_exporter": "python",
   "pygments_lexer": "ipython3",
   "version": "3.6.1"
  }
 },
 "nbformat": 4,
 "nbformat_minor": 2
}
