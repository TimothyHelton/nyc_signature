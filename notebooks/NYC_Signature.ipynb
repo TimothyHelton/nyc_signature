{
 "cells": [
  {
   "cell_type": "markdown",
   "metadata": {},
   "source": [
    "# New York City Signature Locations\n",
    "---\n",
    "Timothy Helton\n",
    "\n",
    "---\n",
    "<br>\n",
    "<font color=\"red\">\n",
    "    NOTE:\n",
    "    <br>\n",
    "    This notebook uses code found in the\n",
    "    <a href=\"https://github.com/TimothyHelton/k2datascience/blob/master/nyc_signature\">\n",
    "    <strong>nyc_signature</strong></a> package.\n",
    "    To execute all the cells do one of the following items:\n",
    "    <ul>\n",
    "        <li>Install the nyc_signature package to the active Python interpreter.</li>\n",
    "        <li>Add nyc_signature/nyc_signature to the PYTHON_PATH system variable.</li>\n",
    "</font>"
   ]
  },
  {
   "cell_type": "markdown",
   "metadata": {},
   "source": [
    "---\n",
    "## Imports"
   ]
  },
  {
   "cell_type": "code",
   "execution_count": null,
   "metadata": {},
   "outputs": [],
   "source": [
    "import sys\n",
    "\n",
    "from nyc_signature import demographics\n",
    "from nyc_signature import subway\n",
    "from nyc_signature import locations\n",
    "\n",
    "from IPython.core.interactiveshell import InteractiveShell\n",
    "InteractiveShell.ast_node_interactivity = \"all\"\n",
    "%matplotlib inline"
   ]
  },
  {
   "cell_type": "markdown",
   "metadata": {},
   "source": [
    "---\n",
    "## Python Version"
   ]
  },
  {
   "cell_type": "code",
   "execution_count": null,
   "metadata": {},
   "outputs": [],
   "source": [
    "print(f'Python Version: {sys.version}')"
   ]
  },
  {
   "cell_type": "markdown",
   "metadata": {},
   "source": [
    "---\n",
    "## Votor Demographics"
   ]
  },
  {
   "cell_type": "markdown",
   "metadata": {},
   "source": [
    "### US Voters By Age and Gender\n",
    "#### Load Data"
   ]
  },
  {
   "cell_type": "code",
   "execution_count": null,
   "metadata": {},
   "outputs": [],
   "source": [
    "us_age = demographics.Age()\n",
    "us_age.data.info()\n",
    "us_age.data.head()"
   ]
  },
  {
   "cell_type": "code",
   "execution_count": null,
   "metadata": {},
   "outputs": [],
   "source": [
    "us_age.age_vote_plot()"
   ]
  },
  {
   "cell_type": "markdown",
   "metadata": {},
   "source": [
    "#### Finding\n",
    "1. Half the people 37 years of age or older in the US voted during the last election.\n",
    "1. The age groups in the 70th percentile or higher for votor population are 45, 46 and 49 through 65.\n",
    "    1. A **Target Age Range** of **45-65 years old** will be chosen to maximize the opportunity to engage an individual voted in the last election the therfore will be open to signing a petition.\n",
    "1. Gender does not play a significant role.\n",
    "    1. Preference due to gender is weak, but if multiple candidates are available **chose to persue the women**."
   ]
  },
  {
   "cell_type": "markdown",
   "metadata": {},
   "source": [
    "###  New York State Voters\n",
    "#### Load Data"
   ]
  },
  {
   "cell_type": "code",
   "execution_count": null,
   "metadata": {},
   "outputs": [],
   "source": [
    "ny = demographics.NewYork()\n",
    "ny.data.info()\n",
    "ny.data.loc['new york', :]"
   ]
  },
  {
   "cell_type": "code",
   "execution_count": null,
   "metadata": {},
   "outputs": [],
   "source": [
    "ny.ethnicity_plot()"
   ]
  },
  {
   "cell_type": "markdown",
   "metadata": {},
   "source": [
    "#### Findings\n",
    "1. Purse **Black or White** individuals first, since they are more likely to be a voter.\n",
    "1. The next most likely race to be a voter is Hispanic.\n",
    "1. Asians are the least likly race to have voted in New York state."
   ]
  },
  {
   "cell_type": "markdown",
   "metadata": {},
   "source": [
    "---\n",
    "## Hospital Locations"
   ]
  },
  {
   "cell_type": "markdown",
   "metadata": {},
   "source": [
    "### Locations\n",
    "#### Load Data"
   ]
  },
  {
   "cell_type": "code",
   "execution_count": null,
   "metadata": {},
   "outputs": [],
   "source": [
    "hosp = locations.Hospitals()\n",
    "hosp.hospitals"
   ]
  },
  {
   "cell_type": "markdown",
   "metadata": {},
   "source": [
    "---\n",
    "## Subway Stations"
   ]
  },
  {
   "cell_type": "markdown",
   "metadata": {},
   "source": [
    "### Loctions\n",
    "#### Load Data"
   ]
  },
  {
   "cell_type": "code",
   "execution_count": null,
   "metadata": {},
   "outputs": [],
   "source": [
    "stations = subway.Stations()\n",
    "\n",
    "stations.data.info()\n",
    "stations.data.head()\n",
    "stations.trains.info()\n",
    "stations.trains.head()"
   ]
  },
  {
   "cell_type": "code",
   "execution_count": null,
   "metadata": {},
   "outputs": [],
   "source": [
    "stations.hospital_distances()\n",
    "stations.hosp_dist.head(10)\n",
    "stations.hosp_prox.head(10)"
   ]
  },
  {
   "cell_type": "code",
   "execution_count": null,
   "metadata": {},
   "outputs": [],
   "source": [
    "stations.train_plot()"
   ]
  },
  {
   "cell_type": "markdown",
   "metadata": {},
   "source": [
    "---\n",
    "## Subway Turnstile Data"
   ]
  },
  {
   "cell_type": "code",
   "execution_count": null,
   "metadata": {},
   "outputs": [],
   "source": [
    "ts = subway.Turnstile()\n",
    "ts.get_data()\n",
    "ts.data.info()\n",
    "ts.data.head()"
   ]
  },
  {
   "cell_type": "code",
   "execution_count": null,
   "metadata": {},
   "outputs": [],
   "source": [
    "ts.get_targets()\n",
    "ts.targets\n",
    "ts.target_data.info()\n",
    "ts.target_data.head()"
   ]
  },
  {
   "cell_type": "code",
   "execution_count": null,
   "metadata": {},
   "outputs": [],
   "source": [
    "ts.targets_entry_plot()"
   ]
  },
  {
   "cell_type": "code",
   "execution_count": null,
   "metadata": {},
   "outputs": [],
   "source": [
    "ts.get_top_stations()\n",
    "ts.top_stations\n",
    "ts.top_entry_bar_plot()"
   ]
  },
  {
   "cell_type": "code",
   "execution_count": null,
   "metadata": {},
   "outputs": [],
   "source": [
    "import matplotlib.pyplot as plt\n",
    "from matplotlib.ticker import FuncFormatter\n",
    "import pandas as pd\n",
    "import seaborn as sns\n",
    "\n",
    "\n",
    "ax_formatter = {\n",
    "    'billions': FuncFormatter(lambda x, position: f'{x * 1e-9:.0f}'),\n",
    "    'millions': FuncFormatter(lambda x, position: f'{x * 1e-6:.0f}'),\n",
    "    'percent_convert': FuncFormatter(lambda x, position: f'{x * 100:.0f}%'),\n",
    "    'percent': FuncFormatter(lambda x, position: f'{x:.0f}%'),\n",
    "    'thousands': FuncFormatter(lambda x, position: f'{x * 1e-3:.0f}'),\n",
    "}\n",
    "\n",
    "size = {\n",
    "    'label': 14,\n",
    "    'legend': 12,\n",
    "    'title': 20,\n",
    "    'super_title': 24,\n",
    "}\n",
    "\n",
    "\n",
    "fig = plt.figure('Station By Day',\n",
    "                 figsize=(5, 5), facecolor='white',\n",
    "                 edgecolor='black')\n",
    "rows, cols = (1, 1)\n",
    "ax0 = plt.subplot2grid((rows, cols), (0, 0))\n",
    "\n",
    "station = ts.target_data.query('station == \"FULTON ST\"')\n",
    "(station\n",
    " .groupby([station.index.weekday, station.index.time])\n",
    " .mean()\n",
    " .loc[(0, slice(pd.to_datetime('08:00:00').time(),\n",
    "                pd.to_datetime('18:00:00').time())), :]\n",
    " .plot(kind='bar', ax=ax0))\n",
    "\n",
    "ax0.set_title('Fulton St. Average Monday', fontsize=size['title'])\n",
    "ax0.set_xlabel('Time of Day', fontsize=size['label'])\n",
    "ax0.set_ylabel('Turnsitle Use ($millions$)', fontsize=size['label'])\n",
    "xticks = [x.get_text().split()[1].rstrip(')')\n",
    "          for x in ax0.xaxis.get_majorticklabels()]\n",
    "ax0.set_xticklabels(xticks, fontsize=size['legend'], rotation=80)\n",
    "ax0.yaxis.set_major_formatter(ax_formatter['millions'])\n",
    "\n",
    "plt.tight_layout()\n",
    "# plt.suptitle(\"2016 Olympic Athlete's Height by Sport\",\n",
    "#              fontsize=self.sup_title_size, y=1.05)"
   ]
  }
 ],
 "metadata": {
  "kernelspec": {
   "display_name": "Python 3",
   "language": "python",
   "name": "python3"
  },
  "language_info": {
   "codemirror_mode": {
    "name": "ipython",
    "version": 3
   },
   "file_extension": ".py",
   "mimetype": "text/x-python",
   "name": "python",
   "nbconvert_exporter": "python",
   "pygments_lexer": "ipython3",
   "version": "3.6.1"
  }
 },
 "nbformat": 4,
 "nbformat_minor": 2
}
